{
 "cells": [
  {
   "cell_type": "code",
   "execution_count": 19,
   "metadata": {
    "pycharm": {
     "name": "#%%\n",
     "is_executing": false
    }
   },
   "outputs": [],
   "source": [
    "import json\n",
    "import datetime as dt\n",
    "\n",
    "path = './../res/aylien_covid_news_data.jsonl'\n",
    "output_path = './../res/aylien_covid_news_mar_may.jsonl'\n",
    "res = {11: 0,\n",
    "       12: 0,\n",
    "       1: 0,\n",
    "       2: 0,\n",
    "       3: 0,\n",
    "       4: 0,\n",
    "       5: 0,}\n",
    "\n",
    "file_res = []\n",
    "\n",
    "with open(path, 'r') as json_file:\n",
    "    current_line = json_file.readline()\n",
    "    \n",
    "    while current_line:\n",
    "        json_line = json.loads(current_line)\n",
    "        month = dt.datetime.strptime(json_line['published_at'], '%Y-%m-%d %H:%M:%S%z').month\n",
    "        \n",
    "        if month == 3 and res[3] % 8 == 0:\n",
    "            file_res.append(json_line)\n",
    "        elif month == 4 and res[4] % 8 == 0:\n",
    "            file_res.append(json_line)\n",
    "        elif month == 5 and res[5] % 8 == 0:\n",
    "            file_res.append(json_line)\n",
    "        \n",
    "        res[month] += 1\n",
    "        current_line = json_file.readline()\n",
    "\n",
    "with open(output_path, 'w', encoding='utf-8') as f:\n",
    "    for line in file_res:\n",
    "        json_record = json.dumps(line, ensure_ascii=False)\n",
    "        f.write(json_record + '\\n')"
   ]
  },
  {
   "cell_type": "code",
   "execution_count": 28,
   "outputs": [
    {
     "name": "stdout",
     "text": [
      "136402\n",
      "{11: 0, 12: 0, 1: 0, 2: 0, 3: 44623, 4: 52715, 5: 39064}\n"
     ],
     "output_type": "stream"
    }
   ],
   "source": [
    "res = {11: 0,\n",
    "       12: 0,\n",
    "       1: 0,\n",
    "       2: 0,\n",
    "       3: 0,\n",
    "       4: 0,\n",
    "       5: 0,}\n",
    "\n",
    "with open(output_path, 'r', encoding='utf-8') as json_file:\n",
    "    current_line = json_file.readline()\n",
    "    i = 0\n",
    "    while current_line:\n",
    "        json_line = json.loads(current_line)\n",
    "        month = dt.datetime.strptime(json_line['published_at'], '%Y-%m-%d %H:%M:%S%z').month\n",
    "        \n",
    "        res[month] += 1\n",
    "        i += 1\n",
    "        current_line = json_file.readline()\n",
    "        \n",
    "print(i)\n",
    "print(res)"
   ],
   "metadata": {
    "collapsed": false,
    "pycharm": {
     "name": "#%%\n",
     "is_executing": false
    }
   }
  },
  {
   "cell_type": "code",
   "execution_count": 31,
   "outputs": [
    {
     "name": "stdout",
     "text": [
      "On Sunday, British Prime Minister Boris Johnson was hospitalized \"for tests\" because of \"persistent\" COVID-19 symptoms 10 days after he tested positive, CNN reports. \n",
      "Johnson reportedly went to the unspecified London hospital after his doctor advised him to do so. A press release from his office called the move \"precautionary.\" \n",
      "On March 26, Johnson revealed he had tested positive and that he had been dealing with symptoms since that date. Britain had gone into lockdown two days earlier.\n",
      "Since the 26th, Johnson has been quarantined at his Downing Street residence. He is the first known world leader to have contracted the virus. \n",
      "Roughly a month ago, right around the time the U.K. started dealing with an outbreak, Johnson garnered media coverage for saying he'd shook hands with coronavirus patients during a hospital visit.  \n",
      "\"I shook hands with everybody, you will be pleased to know, and I continue to shake hands,\" Johnson said during a press conference that took place on March 3. His positive test was registered 23 days later. \n",
      "On Saturday, Johnson's fiancée, Carrie Symonds, tweeted out that she'd spent a week in bed with coronavirus symptoms. She had not officially been tested for the disease, but said she felt \"stronger\" and \"on the mend\" following the week of rest:\n"
     ],
     "output_type": "stream"
    }
   ],
   "source": [
    "with open(output_path, 'r', encoding='utf-8') as json_file:\n",
    "    current_line = json_file.readline()\n",
    "    json_line = json.loads(current_line)\n",
    "    print(json_line['body'])\n"
   ],
   "metadata": {
    "collapsed": false,
    "pycharm": {
     "name": "#%%\n",
     "is_executing": false
    }
   }
  }
 ],
 "metadata": {
  "kernelspec": {
   "display_name": "Python 3",
   "language": "python",
   "name": "python3"
  },
  "language_info": {
   "codemirror_mode": {
    "name": "ipython",
    "version": 3
   },
   "file_extension": ".py",
   "mimetype": "text/x-python",
   "name": "python",
   "nbconvert_exporter": "python",
   "pygments_lexer": "ipython3",
   "version": "3.7.4"
  },
  "pycharm": {
   "stem_cell": {
    "cell_type": "raw",
    "source": [],
    "metadata": {
     "collapsed": false
    }
   }
  }
 },
 "nbformat": 4,
 "nbformat_minor": 1
}